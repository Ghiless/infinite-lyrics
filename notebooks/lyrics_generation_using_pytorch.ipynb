{
 "cells": [
  {
   "cell_type": "markdown",
   "metadata": {
    "_uuid": "af175691c8999c43d0931cc180215bd1814f7bc1"
   },
   "source": [
    "# Lyrics generation using PyTorch\n",
    "\n",
    "This notebook is largly (laaaaaaaaargly!) inspired by [Cezanne Camacho's notebook](https://github.com/udacity/deep-learning-v2-pytorch/blob/master/recurrent-neural-networks/char-rnn/Character_Level_RNN_Solution.ipynb).\n",
    "\n",
    "In this notebook, we will try to create and train a model to generate lyrics."
   ]
  },
  {
   "cell_type": "code",
   "execution_count": 222,
   "metadata": {
    "_uuid": "92261b3cdbfdb431e94e0bc879272422c4420417"
   },
   "outputs": [],
   "source": [
    "import numpy as np\n",
    "import torch\n",
    "from torch import nn\n",
    "import torch.nn.functional as F\n",
    "import random\n",
    "\n",
    "import matplotlib.pyplot as plt\n",
    "%matplotlib inline"
   ]
  },
  {
   "cell_type": "markdown",
   "metadata": {
    "_cell_guid": "79c7e3d0-c299-4dcb-8224-4455121ee9b0",
    "_uuid": "d629ff2d2480ee46fbb7e2d37f6b5fab8052498a",
    "collapsed": true
   },
   "source": [
    "## Prepare data"
   ]
  },
  {
   "cell_type": "markdown",
   "metadata": {
    "_uuid": "669a52bf8041a4f69880947f9b86b9c0195327c3"
   },
   "source": [
    "First, let's explore our data and see its structure."
   ]
  },
  {
   "cell_type": "code",
   "execution_count": 223,
   "metadata": {
    "_uuid": "a0bd510b879499364603ec7c818465ce6a1e814e"
   },
   "outputs": [
    {
     "data": {
      "text/html": [
       "<div>\n",
       "<style scoped>\n",
       "    .dataframe tbody tr th:only-of-type {\n",
       "        vertical-align: middle;\n",
       "    }\n",
       "\n",
       "    .dataframe tbody tr th {\n",
       "        vertical-align: top;\n",
       "    }\n",
       "\n",
       "    .dataframe thead th {\n",
       "        text-align: right;\n",
       "    }\n",
       "</style>\n",
       "<table border=\"1\" class=\"dataframe\">\n",
       "  <thead>\n",
       "    <tr style=\"text-align: right;\">\n",
       "      <th></th>\n",
       "      <th>artist</th>\n",
       "      <th>song</th>\n",
       "      <th>link</th>\n",
       "      <th>text</th>\n",
       "    </tr>\n",
       "  </thead>\n",
       "  <tbody>\n",
       "    <tr>\n",
       "      <th>0</th>\n",
       "      <td>ABBA</td>\n",
       "      <td>Ahe's My Kind Of Girl</td>\n",
       "      <td>/a/abba/ahes+my+kind+of+girl_20598417.html</td>\n",
       "      <td>Look at her face, it's a wonderful face  \\nAnd...</td>\n",
       "    </tr>\n",
       "    <tr>\n",
       "      <th>1</th>\n",
       "      <td>ABBA</td>\n",
       "      <td>Andante, Andante</td>\n",
       "      <td>/a/abba/andante+andante_20002708.html</td>\n",
       "      <td>Take it easy with me, please  \\nTouch me gentl...</td>\n",
       "    </tr>\n",
       "    <tr>\n",
       "      <th>2</th>\n",
       "      <td>ABBA</td>\n",
       "      <td>As Good As New</td>\n",
       "      <td>/a/abba/as+good+as+new_20003033.html</td>\n",
       "      <td>I'll never know why I had to go  \\nWhy I had t...</td>\n",
       "    </tr>\n",
       "    <tr>\n",
       "      <th>3</th>\n",
       "      <td>ABBA</td>\n",
       "      <td>Bang</td>\n",
       "      <td>/a/abba/bang_20598415.html</td>\n",
       "      <td>Making somebody happy is a question of give an...</td>\n",
       "    </tr>\n",
       "    <tr>\n",
       "      <th>4</th>\n",
       "      <td>ABBA</td>\n",
       "      <td>Bang-A-Boomerang</td>\n",
       "      <td>/a/abba/bang+a+boomerang_20002668.html</td>\n",
       "      <td>Making somebody happy is a question of give an...</td>\n",
       "    </tr>\n",
       "  </tbody>\n",
       "</table>\n",
       "</div>"
      ],
      "text/plain": [
       "  artist                        ...                                                                       text\n",
       "0   ABBA                        ...                          Look at her face, it's a wonderful face  \\nAnd...\n",
       "1   ABBA                        ...                          Take it easy with me, please  \\nTouch me gentl...\n",
       "2   ABBA                        ...                          I'll never know why I had to go  \\nWhy I had t...\n",
       "3   ABBA                        ...                          Making somebody happy is a question of give an...\n",
       "4   ABBA                        ...                          Making somebody happy is a question of give an...\n",
       "\n",
       "[5 rows x 4 columns]"
      ]
     },
     "execution_count": 223,
     "metadata": {},
     "output_type": "execute_result"
    }
   ],
   "source": [
    "import pandas as pd\n",
    "\n",
    "file = pd.read_csv(\"data/songdata.csv\")\n",
    "file.head()"
   ]
  },
  {
   "cell_type": "markdown",
   "metadata": {
    "_uuid": "0bc4c7f4095c550566b89fb830554b9f10205f63"
   },
   "source": [
    "What interests us the most here is the 'text' field. Our model will be training on it. After, we can choose to train a model on the texts of a specific artist.\n",
    "\n",
    "But before starting, let's have some fun and define a function that will print a random song each time."
   ]
  },
  {
   "cell_type": "code",
   "execution_count": 224,
   "metadata": {
    "_kg_hide-output": false,
    "_uuid": "0c5d14f857a1b5a480b913bd989a6976ccc26059"
   },
   "outputs": [],
   "source": [
    "def print_random_song():\n",
    "    n = len(file)\n",
    "    song = file.loc[random.randrange(0, n)]\n",
    "    print(song['song'] + '\\nby ' + song['artist'] + '\\n\\n' + song['text'])"
   ]
  },
  {
   "cell_type": "code",
   "execution_count": 225,
   "metadata": {
    "_kg_hide-output": false,
    "_uuid": "ebc3858fa03efb58768d8765205f61eb567cbe30"
   },
   "outputs": [
    {
     "name": "stdout",
     "output_type": "stream",
     "text": [
      "Never Tear Us Apart\n",
      "by Natalie Imbruglia\n",
      "\n",
      "Don't ask me  \n",
      "What you know is true  \n",
      "Don't have to tell you  \n",
      "I love your precious heart  \n",
      "  \n",
      "I  \n",
      "I was standing  \n",
      "You were there  \n",
      "Two worlds collided  \n",
      "And they could never tear us apart  \n",
      "  \n",
      "We could live  \n",
      "For a thousand years  \n",
      "But if I hurt you  \n",
      "I'd make wine from your tears  \n",
      "  \n",
      "I told you  \n",
      "That we could fly  \n",
      "'Cause we all have wings  \n",
      "But some of us don't know why  \n",
      "  \n",
      "I  \n",
      "I was standing  \n",
      "You were there  \n",
      "Two worlds collided  \n",
      "And they could never ever tear us apart\n",
      "\n",
      "\n"
     ]
    }
   ],
   "source": [
    "print_random_song()"
   ]
  },
  {
   "cell_type": "markdown",
   "metadata": {
    "_uuid": "1973666465f5daaf972243d088d37cfd7778d45a"
   },
   "source": [
    "Now, let's get the full text concatenated."
   ]
  },
  {
   "cell_type": "code",
   "execution_count": 226,
   "metadata": {
    "_uuid": "bfc521d12eac576cef01af5da3ecbc45f0fc6755"
   },
   "outputs": [
    {
     "data": {
      "text/plain": [
       "68056106"
      ]
     },
     "execution_count": 226,
     "metadata": {},
     "output_type": "execute_result"
    }
   ],
   "source": [
    "text = file['text'].str.cat(sep='\\n')\n",
    "len(text)"
   ]
  },
  {
   "cell_type": "markdown",
   "metadata": {
    "_uuid": "baeb8957694cb7d4385028738aa5c0733f7a1234"
   },
   "source": [
    "We can see that we have over 60 million characters, which is a lot of characters. Training on that will take very long time. Let's just keep the first 2 million."
   ]
  },
  {
   "cell_type": "code",
   "execution_count": 227,
   "metadata": {
    "_uuid": "a7f14fd5822a659d7702dd6e275732b0f4a252b0"
   },
   "outputs": [
    {
     "data": {
      "text/plain": [
       "2000000"
      ]
     },
     "execution_count": 227,
     "metadata": {},
     "output_type": "execute_result"
    }
   ],
   "source": [
    "text = text[:2000000]\n",
    "len(text)"
   ]
  },
  {
   "cell_type": "markdown",
   "metadata": {
    "_uuid": "594f6cca2303815c1ca44d4e2c37fafdb76cabe9"
   },
   "source": [
    "This will exclude many talented artists but that's okay. We'll take them back when Kaggle gets better GPUs."
   ]
  },
  {
   "cell_type": "markdown",
   "metadata": {
    "_uuid": "a3d3591d2df3b131a79c66214b8e447d90b74bd5"
   },
   "source": [
    "## Tokenization"
   ]
  },
  {
   "cell_type": "markdown",
   "metadata": {
    "_uuid": "82160f11afed3157c3e080b74361bcfcdc81386d"
   },
   "source": [
    "Our model will not be able to train on our data as it is. We need to encode it. For that, we will translate each character into an integer. Let's start by retrieving all the characters."
   ]
  },
  {
   "cell_type": "code",
   "execution_count": 228,
   "metadata": {
    "_uuid": "b8ca57f20e034d2717d4861a2c62e60d5fb287c0"
   },
   "outputs": [
    {
     "data": {
      "text/plain": [
       "76"
      ]
     },
     "execution_count": 228,
     "metadata": {},
     "output_type": "execute_result"
    }
   ],
   "source": [
    "all_characters = sorted(tuple(set(text)))\n",
    "n_characters = len(all_characters)\n",
    "\n",
    "n_characters"
   ]
  },
  {
   "cell_type": "markdown",
   "metadata": {
    "_uuid": "9ba0bb2ac75d0a114adb800066a3834088f57291"
   },
   "source": [
    "Let's now define two dictionaries (one which maps integers to characters, another one wich maps charactes to intgers) and then, encode our text."
   ]
  },
  {
   "cell_type": "code",
   "execution_count": 229,
   "metadata": {
    "_uuid": "46b1594befcb7b21b92377438f013d1981e0d8b3"
   },
   "outputs": [],
   "source": [
    "# given an index, get the character\n",
    "index_char = dict(enumerate(all_characters))\n",
    "\n",
    "# given a character, get the index\n",
    "char_index = {v: k for k, v in index_char.items()}"
   ]
  },
  {
   "cell_type": "code",
   "execution_count": 230,
   "metadata": {
    "_uuid": "2ea9aee58144e1e0ee615b944d6def7b814c7465"
   },
   "outputs": [],
   "source": [
    "# encode the text\n",
    "encoded_text = np.array([char_index[c] for c in text])"
   ]
  },
  {
   "cell_type": "code",
   "execution_count": 231,
   "metadata": {
    "_uuid": "915aaa2257c7cdc012709cce172eadba94116877"
   },
   "outputs": [
    {
     "data": {
      "text/plain": [
       "array([33, 64, 64, 60,  1, 50, 69,  1, 57, 54, 67,  1, 55, 50, 52, 54,  7,\n",
       "        1, 58, 69,  4, 68,  1, 50,  1, 72, 64, 63, 53, 54, 67, 55, 70, 61,\n",
       "        1, 55, 50, 52, 54,  1,  1,  0, 22, 63, 53,  1, 58, 69,  1, 62, 54,\n",
       "       50, 63, 68,  1, 68, 64, 62, 54, 69, 57, 58, 63, 56,  1, 68, 65, 54,\n",
       "       52, 58, 50, 61,  1, 69, 64,  1, 62, 54,  1,  1,  0, 33, 64, 64, 60,\n",
       "        1, 50, 69,  1, 69, 57, 54,  1, 72, 50, 74,  1, 69, 57, 50])"
      ]
     },
     "execution_count": 231,
     "metadata": {},
     "output_type": "execute_result"
    }
   ],
   "source": [
    "encoded_text[:100]"
   ]
  },
  {
   "cell_type": "code",
   "execution_count": 232,
   "metadata": {
    "_uuid": "9ea96cbc6e5920554d38c31203424a47a2de8cdc"
   },
   "outputs": [
    {
     "data": {
      "text/plain": [
       "\"Look at her face, it's a wonderful face  \\nAnd it means something special to me  \\nLook at the way tha\""
      ]
     },
     "execution_count": 232,
     "metadata": {},
     "output_type": "execute_result"
    }
   ],
   "source": [
    "text[:100]"
   ]
  },
  {
   "cell_type": "markdown",
   "metadata": {
    "_uuid": "b81ed83322e0ca1d37f0a820ba3da72d3363efb1"
   },
   "source": [
    "## Pre-processing the data"
   ]
  },
  {
   "cell_type": "markdown",
   "metadata": {
    "_uuid": "e179758900ff926958462d062f26ddfaca38437f"
   },
   "source": [
    "Defining a function to one-hot encode our data."
   ]
  },
  {
   "cell_type": "code",
   "execution_count": 233,
   "metadata": {
    "_uuid": "b33fabc9eb42f129cd46822166d1074f4f9287f4"
   },
   "outputs": [],
   "source": [
    "def one_hot_encode(arr, n_labels): \n",
    "    # Initialize the the encoded array\n",
    "    one_hot = np.zeros((np.multiply(*arr.shape), n_labels), dtype=np.float32)\n",
    "    \n",
    "    # Fill the appropriate elements with ones\n",
    "    one_hot[np.arange(one_hot.shape[0]), arr.flatten()] = 1.\n",
    "    \n",
    "    # Finally reshape it to get back to the original array\n",
    "    one_hot = one_hot.reshape((*arr.shape, n_labels))\n",
    "    \n",
    "    return one_hot"
   ]
  },
  {
   "cell_type": "markdown",
   "metadata": {
    "_uuid": "c48376e1434916679fcbf984486e34f48c622ff8"
   },
   "source": [
    "## Making mini-batches"
   ]
  },
  {
   "cell_type": "code",
   "execution_count": 234,
   "metadata": {
    "_uuid": "485dff4262f19ef03c9e54ec8fc4524e36d8968d"
   },
   "outputs": [],
   "source": [
    "def get_batches(arr, batch_size, seq_length):\n",
    "    '''Create a generator that returns batches of size\n",
    "       batch_size x seq_length from arr.\n",
    "       \n",
    "       Arguments\n",
    "       ---------\n",
    "       arr: Array you want to make batches from\n",
    "       batch_size: Batch size, the number of sequences per batch\n",
    "       seq_length: Number of encoded chars in a sequence\n",
    "    '''\n",
    "    \n",
    "    batch_size_total = batch_size * seq_length\n",
    "    # total number of batches we can make\n",
    "    n_batches = len(arr)//batch_size_total\n",
    "    \n",
    "    # Keep only enough characters to make full batches\n",
    "    arr = arr[:n_batches * batch_size_total]\n",
    "    # Reshape into batch_size rows\n",
    "    arr = arr.reshape((batch_size, -1))\n",
    "    \n",
    "    # iterate through the array, one sequence at a time\n",
    "    for n in range(0, arr.shape[1], seq_length):\n",
    "        # The features\n",
    "        x = arr[:, n:n+seq_length]\n",
    "        # The targets, shifted by one\n",
    "        y = np.zeros_like(x)\n",
    "        try:\n",
    "            y[:, :-1], y[:, -1] = x[:, 1:], arr[:, n+seq_length]\n",
    "        except IndexError:\n",
    "            y[:, :-1], y[:, -1] = x[:, 1:], arr[:, 0]\n",
    "        yield x, y"
   ]
  },
  {
   "cell_type": "markdown",
   "metadata": {
    "_uuid": "351ab4956389a9f76d9dcc1f420dc44c1240d24a"
   },
   "source": [
    "## Build the model"
   ]
  },
  {
   "cell_type": "code",
   "execution_count": 235,
   "metadata": {
    "_uuid": "ae7679e1de4f60a3bf4a81125b82844b98dbebd1"
   },
   "outputs": [
    {
     "name": "stdout",
     "output_type": "stream",
     "text": [
      "Training on GPU!\n"
     ]
    }
   ],
   "source": [
    "train_on_gpu = torch.cuda.is_available()\n",
    "if(train_on_gpu):\n",
    "    print('Training on GPU!')\n",
    "else: \n",
    "    print('No GPU available, training on CPU; consider making n_epochs very small.')"
   ]
  },
  {
   "cell_type": "code",
   "execution_count": 236,
   "metadata": {
    "_uuid": "2344aa61241c1553cfd07f3120e001f277d454cd"
   },
   "outputs": [],
   "source": [
    "class MyRNN(nn.Module):\n",
    "    def __init__(self, tokens, n_hidden=256, n_layers=2, drop_prob=0.5, lr=0.001):\n",
    "        super().__init__()\n",
    "        self.drop_prob = drop_prob\n",
    "        self.n_layers = n_layers\n",
    "        self.n_hidden = n_hidden\n",
    "        self.lr = lr\n",
    "        \n",
    "        # creating character dictionaries\n",
    "        self.chars = tokens\n",
    "        self.index_char = dict(enumerate(self.chars))\n",
    "        self.char_index = {v: k for k, v in self.index_char.items()}\n",
    "        \n",
    "        self.lstm = nn.LSTM(len(self.chars), n_hidden, n_layers, dropout=drop_prob, batch_first=True)\n",
    "        self.dropout = nn.Dropout(drop_prob)\n",
    "        self.fc = nn.Linear(n_hidden, len(self.chars))\n",
    "      \n",
    "    \n",
    "    def forward(self, x, hidden):\n",
    "        r_output, hidden = self.lstm(x, hidden)\n",
    "        out = self.dropout(r_output)\n",
    "        \n",
    "        # Stack up LSTM outputs using view\n",
    "        # you may need to use contiguous to reshape the output\n",
    "        out = out.contiguous().view(-1, self.n_hidden)\n",
    "        \n",
    "        out = self.fc(out)\n",
    "        \n",
    "        return out, hidden\n",
    "    \n",
    "    \n",
    "    def init_hidden(self, batch_size):\n",
    "        weight = next(self.parameters()).data\n",
    "        \n",
    "        if (train_on_gpu):\n",
    "            hidden = (weight.new(self.n_layers, batch_size, self.n_hidden).zero_().cuda(),\n",
    "                  weight.new(self.n_layers, batch_size, self.n_hidden).zero_().cuda())\n",
    "        else:\n",
    "            hidden = (weight.new(self.n_layers, batch_size, self.n_hidden).zero_(),\n",
    "                      weight.new(self.n_layers, batch_size, self.n_hidden).zero_())\n",
    "        \n",
    "        return hidden"
   ]
  },
  {
   "cell_type": "code",
   "execution_count": 237,
   "metadata": {
    "_uuid": "bf2d89a8bfae1184b7ceb573f3ba985412e1f76e"
   },
   "outputs": [],
   "source": [
    "def train(net, data, epochs=10, batch_size=10, seq_length=50, lr=0.001, clip=5, val_frac=0.1, print_every=10):\n",
    "    ''' Training a network \n",
    "    \n",
    "        Arguments\n",
    "        ---------\n",
    "        \n",
    "        net: CharRNN network\n",
    "        data: text data to train the network\n",
    "        epochs: Number of epochs to train\n",
    "        batch_size: Number of mini-sequences per mini-batch, aka batch size\n",
    "        seq_length: Number of character steps per mini-batch\n",
    "        lr: learning rate\n",
    "        clip: gradient clipping\n",
    "        val_frac: Fraction of data to hold out for validation\n",
    "        print_every: Number of steps for printing training and validation loss\n",
    "    \n",
    "    '''\n",
    "    net.train()\n",
    "    \n",
    "    opt = torch.optim.Adam(net.parameters(), lr=lr)\n",
    "    criterion = nn.CrossEntropyLoss()\n",
    "    \n",
    "    # create training and validation data\n",
    "    val_idx = int(len(data)*(1-val_frac))\n",
    "    data, val_data = data[:val_idx], data[val_idx:]\n",
    "    \n",
    "    if(train_on_gpu):\n",
    "        net.cuda()\n",
    "    \n",
    "    counter = 0\n",
    "    n_chars = len(net.chars)\n",
    "    all_losses = []\n",
    "    all_val_losses = []\n",
    "    for e in range(epochs):\n",
    "        # initialize hidden state\n",
    "        h = net.init_hidden(batch_size)\n",
    "        \n",
    "        for x, y in get_batches(data, batch_size, seq_length):\n",
    "            counter += 1\n",
    "            \n",
    "            # One-hot encode our data and make them Torch tensors\n",
    "            x = one_hot_encode(x, n_chars)\n",
    "            inputs, targets = torch.from_numpy(x), torch.from_numpy(y).long()\n",
    "            \n",
    "            if(train_on_gpu):\n",
    "                inputs, targets = inputs.cuda(), targets.cuda()\n",
    "\n",
    "            # Creating new variables for the hidden state, otherwise\n",
    "            # we'd backprop through the entire training history\n",
    "            h = tuple([each.data for each in h])\n",
    "\n",
    "            # zero accumulated gradients\n",
    "            net.zero_grad()\n",
    "            \n",
    "            # get the output from the model\n",
    "            output, h = net(inputs, h)\n",
    "            \n",
    "            # calculate the loss and perform backprop\n",
    "            loss = criterion(output, targets.view(batch_size*seq_length))\n",
    "            loss.backward()\n",
    "            # `clip_grad_norm` helps prevent the exploding gradient problem in RNNs / LSTMs.\n",
    "            nn.utils.clip_grad_norm_(net.parameters(), clip)\n",
    "            opt.step()\n",
    "            \n",
    "            # loss stats\n",
    "            if counter % print_every == 0:\n",
    "                # Get validation loss\n",
    "                val_h = net.init_hidden(batch_size)\n",
    "                val_losses = []\n",
    "                net.eval()\n",
    "                for x, y in get_batches(val_data, batch_size, seq_length):\n",
    "                    # One-hot encode our data and make them Torch tensors\n",
    "                    x = one_hot_encode(x, n_chars)\n",
    "                    x, y = torch.from_numpy(x), torch.from_numpy(y)\n",
    "                    \n",
    "                    # Creating new variables for the hidden state, otherwise\n",
    "                    # we'd backprop through the entire training history\n",
    "                    val_h = tuple([each.data for each in val_h])\n",
    "                    \n",
    "                    inputs, targets = x, y.long()\n",
    "                    if(train_on_gpu):\n",
    "                        inputs, targets = inputs.cuda(), targets.cuda()\n",
    "\n",
    "                    output, val_h = net(inputs, val_h)\n",
    "                    val_loss = criterion(output, targets.view(batch_size*seq_length))\n",
    "                \n",
    "                    val_losses.append(val_loss.item())\n",
    "                \n",
    "                net.train() # reset to train mode after iterationg through validation data\n",
    "                \n",
    "                all_losses.append(loss.item())\n",
    "                all_val_losses.append(np.mean(val_losses))\n",
    "                print(\"Epoch: {}/{}...\".format(e+1, epochs),\n",
    "                      \"Step: {}...\".format(counter),\n",
    "                      \"Loss: {:.4f}...\".format(loss.item()),\n",
    "                      \"Val Loss: {:.4f}\".format(np.mean(val_losses)))\n",
    "                \n",
    "                \n",
    "    return all_losses, all_val_losses"
   ]
  },
  {
   "cell_type": "markdown",
   "metadata": {
    "_uuid": "28991cbd5b3021be84144fb04a0f60f23800fbd2"
   },
   "source": [
    "## Instantiating the model"
   ]
  },
  {
   "cell_type": "code",
   "execution_count": 238,
   "metadata": {
    "_uuid": "ceeceee6e9321553ac7666a6ec35b198caf64c53"
   },
   "outputs": [
    {
     "name": "stdout",
     "output_type": "stream",
     "text": [
      "MyRNN(\n",
      "  (lstm): LSTM(76, 512, num_layers=2, batch_first=True, dropout=0.5)\n",
      "  (dropout): Dropout(p=0.5)\n",
      "  (fc): Linear(in_features=512, out_features=76, bias=True)\n",
      ")\n"
     ]
    }
   ],
   "source": [
    "# define and print the net\n",
    "n_hidden=512\n",
    "n_layers=2\n",
    "\n",
    "net = MyRNN(all_characters, n_hidden, n_layers)\n",
    "print(net)"
   ]
  },
  {
   "cell_type": "code",
   "execution_count": 239,
   "metadata": {
    "_uuid": "6f81efe8e5b8688ff5924e783565fc7434a0a4d3"
   },
   "outputs": [
    {
     "name": "stdout",
     "output_type": "stream",
     "text": [
      "Epoch: 1/5... Step: 10... Loss: 3.2109... Val Loss: 3.1975\n",
      "Epoch: 1/5... Step: 20... Loss: 3.1012... Val Loss: 3.0830\n",
      "Epoch: 1/5... Step: 30... Loss: 3.0698... Val Loss: 3.0750\n",
      "Epoch: 1/5... Step: 40... Loss: 3.0927... Val Loss: 3.0725\n",
      "Epoch: 1/5... Step: 50... Loss: 3.0862... Val Loss: 3.0690\n",
      "Epoch: 1/5... Step: 60... Loss: 3.0847... Val Loss: 3.0671\n",
      "Epoch: 1/5... Step: 70... Loss: 3.0845... Val Loss: 3.0642\n",
      "Epoch: 1/5... Step: 80... Loss: 3.0748... Val Loss: 3.0588\n",
      "Epoch: 1/5... Step: 90... Loss: 3.0451... Val Loss: 3.0408\n",
      "Epoch: 1/5... Step: 100... Loss: 3.0277... Val Loss: 3.0264\n",
      "Epoch: 1/5... Step: 110... Loss: 2.9940... Val Loss: 2.9763\n",
      "Epoch: 1/5... Step: 120... Loss: 2.8976... Val Loss: 2.8983\n",
      "Epoch: 1/5... Step: 130... Loss: 2.8237... Val Loss: 2.8046\n",
      "Epoch: 1/5... Step: 140... Loss: 2.7453... Val Loss: 2.7087\n",
      "Epoch: 2/5... Step: 150... Loss: 2.6702... Val Loss: 2.6177\n",
      "Epoch: 2/5... Step: 160... Loss: 2.5741... Val Loss: 2.5247\n",
      "Epoch: 2/5... Step: 170... Loss: 2.4502... Val Loss: 2.4349\n",
      "Epoch: 2/5... Step: 180... Loss: 2.4208... Val Loss: 2.3694\n",
      "Epoch: 2/5... Step: 190... Loss: 2.3643... Val Loss: 2.3099\n",
      "Epoch: 2/5... Step: 200... Loss: 2.3037... Val Loss: 2.2681\n",
      "Epoch: 2/5... Step: 210... Loss: 2.2996... Val Loss: 2.2318\n",
      "Epoch: 2/5... Step: 220... Loss: 2.2597... Val Loss: 2.2111\n",
      "Epoch: 2/5... Step: 230... Loss: 2.1994... Val Loss: 2.1786\n",
      "Epoch: 2/5... Step: 240... Loss: 2.2089... Val Loss: 2.1492\n",
      "Epoch: 2/5... Step: 250... Loss: 2.1840... Val Loss: 2.1233\n",
      "Epoch: 2/5... Step: 260... Loss: 2.1067... Val Loss: 2.1013\n",
      "Epoch: 2/5... Step: 270... Loss: 2.1241... Val Loss: 2.0798\n",
      "Epoch: 2/5... Step: 280... Loss: 2.1058... Val Loss: 2.0553\n",
      "Epoch: 3/5... Step: 290... Loss: 2.0922... Val Loss: 2.0384\n",
      "Epoch: 3/5... Step: 300... Loss: 2.0458... Val Loss: 2.0132\n",
      "Epoch: 3/5... Step: 310... Loss: 2.0088... Val Loss: 1.9929\n",
      "Epoch: 3/5... Step: 320... Loss: 2.0081... Val Loss: 1.9706\n",
      "Epoch: 3/5... Step: 330... Loss: 2.0245... Val Loss: 1.9505\n",
      "Epoch: 3/5... Step: 340... Loss: 1.9874... Val Loss: 1.9305\n",
      "Epoch: 3/5... Step: 350... Loss: 1.9766... Val Loss: 1.9258\n",
      "Epoch: 3/5... Step: 360... Loss: 1.9721... Val Loss: 1.9082\n",
      "Epoch: 3/5... Step: 370... Loss: 1.9198... Val Loss: 1.8887\n",
      "Epoch: 3/5... Step: 380... Loss: 1.9340... Val Loss: 1.8696\n",
      "Epoch: 3/5... Step: 390... Loss: 1.9015... Val Loss: 1.8561\n",
      "Epoch: 3/5... Step: 400... Loss: 1.8546... Val Loss: 1.8403\n",
      "Epoch: 3/5... Step: 410... Loss: 1.8697... Val Loss: 1.8277\n",
      "Epoch: 3/5... Step: 420... Loss: 1.8774... Val Loss: 1.8137\n",
      "Epoch: 4/5... Step: 430... Loss: 1.8788... Val Loss: 1.8018\n",
      "Epoch: 4/5... Step: 440... Loss: 1.8185... Val Loss: 1.7924\n",
      "Epoch: 4/5... Step: 450... Loss: 1.7973... Val Loss: 1.7798\n",
      "Epoch: 4/5... Step: 460... Loss: 1.8022... Val Loss: 1.7686\n",
      "Epoch: 4/5... Step: 470... Loss: 1.8327... Val Loss: 1.7589\n",
      "Epoch: 4/5... Step: 480... Loss: 1.8118... Val Loss: 1.7492\n",
      "Epoch: 4/5... Step: 490... Loss: 1.8016... Val Loss: 1.7389\n",
      "Epoch: 4/5... Step: 500... Loss: 1.7891... Val Loss: 1.7306\n",
      "Epoch: 4/5... Step: 510... Loss: 1.7639... Val Loss: 1.7212\n",
      "Epoch: 4/5... Step: 520... Loss: 1.7805... Val Loss: 1.7170\n",
      "Epoch: 4/5... Step: 530... Loss: 1.7398... Val Loss: 1.7050\n",
      "Epoch: 4/5... Step: 540... Loss: 1.6988... Val Loss: 1.6994\n",
      "Epoch: 4/5... Step: 550... Loss: 1.7180... Val Loss: 1.6911\n",
      "Epoch: 4/5... Step: 560... Loss: 1.7510... Val Loss: 1.6803\n",
      "Epoch: 5/5... Step: 570... Loss: 1.7497... Val Loss: 1.6751\n",
      "Epoch: 5/5... Step: 580... Loss: 1.7018... Val Loss: 1.6736\n",
      "Epoch: 5/5... Step: 590... Loss: 1.6731... Val Loss: 1.6645\n",
      "Epoch: 5/5... Step: 600... Loss: 1.6907... Val Loss: 1.6574\n",
      "Epoch: 5/5... Step: 610... Loss: 1.7097... Val Loss: 1.6539\n",
      "Epoch: 5/5... Step: 620... Loss: 1.6934... Val Loss: 1.6463\n",
      "Epoch: 5/5... Step: 630... Loss: 1.6922... Val Loss: 1.6362\n",
      "Epoch: 5/5... Step: 640... Loss: 1.6883... Val Loss: 1.6299\n",
      "Epoch: 5/5... Step: 650... Loss: 1.6590... Val Loss: 1.6237\n",
      "Epoch: 5/5... Step: 660... Loss: 1.6682... Val Loss: 1.6200\n",
      "Epoch: 5/5... Step: 670... Loss: 1.6465... Val Loss: 1.6168\n",
      "Epoch: 5/5... Step: 680... Loss: 1.6141... Val Loss: 1.6161\n",
      "Epoch: 5/5... Step: 690... Loss: 1.6215... Val Loss: 1.6051\n",
      "Epoch: 5/5... Step: 700... Loss: 1.6574... Val Loss: 1.5961\n"
     ]
    }
   ],
   "source": [
    "batch_size = 128\n",
    "seq_length = 100\n",
    "n_epochs = 5\n",
    "\n",
    "# train the model\n",
    "losses, val_losses = train(net, encoded_text, epochs=n_epochs, batch_size=batch_size, seq_length=seq_length, lr=0.001, print_every=10)"
   ]
  },
  {
   "cell_type": "markdown",
   "metadata": {
    "_uuid": "f0982b83cd985f7a340996422e5f1766966a489e"
   },
   "source": [
    "## Plot training loss and validation loss"
   ]
  },
  {
   "cell_type": "code",
   "execution_count": 240,
   "metadata": {
    "_uuid": "3aaf48da863764d571fba822e7618b545fe375d7"
   },
   "outputs": [
    {
     "data": {
      "text/plain": [
       "<matplotlib.legend.Legend at 0x7fb69b6a3d68>"
      ]
     },
     "execution_count": 240,
     "metadata": {},
     "output_type": "execute_result"
    },
    {
     "data": {
      "image/png": "[encoded data removed]",
      "text/plain": [
       "<Figure size 432x288 with 1 Axes>"
      ]
     },
     "metadata": {},
     "output_type": "display_data"
    }
   ],
   "source": [
    "plt.figure()\n",
    "plt.plot(losses, label='Training loss')\n",
    "plt.plot(val_losses, label='Validation loss')\n",
    "plt.legend(frameon=False)"
   ]
  },
  {
   "cell_type": "markdown",
   "metadata": {
    "_uuid": "407696a18efe90c42eab4b1f05c57142546d978e"
   },
   "source": [
    "## Making predictions"
   ]
  },
  {
   "cell_type": "code",
   "execution_count": 241,
   "metadata": {
    "_uuid": "cd38e5d472ae2aef4a1359f62fa748e10ce2a641"
   },
   "outputs": [],
   "source": [
    "def predict(net, char, h=None, top_k=None):\n",
    "        ''' Given a character, predict the next character.\n",
    "            Returns the predicted character and the hidden state.\n",
    "        '''\n",
    "        \n",
    "        # tensor inputs\n",
    "        x = np.array([[net.char_index[char]]])\n",
    "        x = one_hot_encode(x, len(net.chars))\n",
    "        inputs = torch.from_numpy(x)\n",
    "        \n",
    "        if(train_on_gpu):\n",
    "            inputs = inputs.cuda()\n",
    "        \n",
    "        # detach hidden state from history\n",
    "        h = tuple([each.data for each in h])\n",
    "        # get the output of the model\n",
    "        out, h = net(inputs, h)\n",
    "\n",
    "        # get the character probabilities\n",
    "        p = F.softmax(out, dim=1).data\n",
    "        if(train_on_gpu):\n",
    "            p = p.cpu() # move to cpu\n",
    "        \n",
    "        # get top characters\n",
    "        if top_k is None:\n",
    "            top_ch = np.arange(len(net.chars))\n",
    "        else:\n",
    "            p, top_ch = p.topk(top_k)\n",
    "            top_ch = top_ch.numpy().squeeze()\n",
    "        \n",
    "        # select the likely next character with some element of randomness\n",
    "        p = p.numpy().squeeze()\n",
    "        char = np.random.choice(top_ch, p=p/p.sum())\n",
    "        \n",
    "        # return the encoded value of the predicted char and the hidden state\n",
    "        return net.index_char[char], h"
   ]
  },
  {
   "cell_type": "code",
   "execution_count": 242,
   "metadata": {
    "_uuid": "fb70ddc660f88ac6935cf33165f876d7f6df9378"
   },
   "outputs": [],
   "source": [
    "def sample_characters(net, size, prime='The', top_k=None):\n",
    "        \n",
    "    if(train_on_gpu):\n",
    "        net.cuda()\n",
    "    else:\n",
    "        net.cpu()\n",
    "    \n",
    "    net.eval() # eval mode\n",
    "    \n",
    "    # First off, run through the prime characters\n",
    "    chars = [ch for ch in prime]\n",
    "    h = net.init_hidden(1)\n",
    "    for ch in prime:\n",
    "        char, h = predict(net, ch, h, top_k=top_k)\n",
    "\n",
    "    chars.append(char)\n",
    "    \n",
    "    # Now pass in the previous character and get a new one\n",
    "    for ii in range(size):\n",
    "        char, h = predict(net, chars[-1], h, top_k=top_k)\n",
    "        chars.append(char)\n",
    "\n",
    "    return ''.join(chars)"
   ]
  },
  {
   "cell_type": "code",
   "execution_count": 243,
   "metadata": {
    "_uuid": "b464d9bad180c554a0421a4a5873b7126e1c9728"
   },
   "outputs": [
    {
     "name": "stdout",
     "output_type": "stream",
     "text": [
      "I love you wanting this  \n",
      "And they gave me so mack to take you  \n",
      "Take me helen  \n",
      "  \n",
      "The say to me a stoppin\n"
     ]
    }
   ],
   "source": [
    "print(sample_characters(net, 100, prime='I love', top_k=5))"
   ]
  },
  {
   "cell_type": "code",
   "execution_count": 244,
   "metadata": {
    "_uuid": "a91e5769a0a187a419caf3614c7a3580a82a4ec6"
   },
   "outputs": [],
   "source": [
    "def sample_words(net, size, prime='The', top_k=None):\n",
    "        \n",
    "    if(train_on_gpu):\n",
    "        net.cuda()\n",
    "    else:\n",
    "        net.cpu()\n",
    "    \n",
    "    net.eval() # eval mode\n",
    "    \n",
    "    # First off, run through the prime characters\n",
    "    chars = [ch for ch in prime]\n",
    "    h = net.init_hidden(1)\n",
    "    for ch in prime:\n",
    "        char, h = predict(net, ch, h, top_k=top_k)\n",
    "\n",
    "    chars.append(char)\n",
    "    \n",
    "    # Now pass in the previous character and get a new one\n",
    "    while 1:\n",
    "        char, h = predict(net, chars[-1], h, top_k=top_k)\n",
    "        chars.append(char)\n",
    "        if len(''.join(chars).split()) == size + 1:\n",
    "            break;\n",
    "\n",
    "    return ''.join(chars[:-2])"
   ]
  },
  {
   "cell_type": "code",
   "execution_count": 245,
   "metadata": {
    "_uuid": "b1ef4aa784340d8a1b50ddb7d10648eadf647668"
   },
   "outputs": [
    {
     "name": "stdout",
     "output_type": "stream",
     "text": [
      "Hellonge  \n",
      "  \n",
      "That you're live in the strom on your hare  \n",
      "It's arlay, then I wan talk anow won some  \n",
      "In\n"
     ]
    }
   ],
   "source": [
    "print(sample_words(net, 20, prime='Hello', top_k=5))"
   ]
  },
  {
   "cell_type": "code",
   "execution_count": 246,
   "metadata": {
    "_uuid": "f847323c8483983c4208804a216d72ce08db6f5a"
   },
   "outputs": [],
   "source": [
    "def sample_lines(net, size, prime='The', top_k=None):\n",
    "        \n",
    "    if(train_on_gpu):\n",
    "        net.cuda()\n",
    "    else:\n",
    "        net.cpu()\n",
    "    \n",
    "    net.eval() # eval mode\n",
    "    \n",
    "    # First off, run through the prime characters\n",
    "    chars = [ch for ch in prime]\n",
    "    h = net.init_hidden(1)\n",
    "    for ch in prime:\n",
    "        char, h = predict(net, ch, h, top_k=top_k)\n",
    "\n",
    "    chars.append(char)\n",
    "    \n",
    "    # Now pass in the previous character and get a new one\n",
    "    while (size > 0):\n",
    "        char, h = predict(net, chars[-1], h, top_k=top_k)\n",
    "        chars.append(char)        \n",
    "        if char == '\\n':\n",
    "            size -= 1\n",
    "\n",
    "    return ''.join(chars)"
   ]
  },
  {
   "cell_type": "code",
   "execution_count": 247,
   "metadata": {
    "_uuid": "d529d62253a54d6bf2edc94ae0d6c98095c9fddc"
   },
   "outputs": [
    {
     "name": "stdout",
     "output_type": "stream",
     "text": [
      "I love you wing they won't you to the trun  \n",
      "I was that you say I'm good  \n",
      "To my seeming say and me thit to be  \n",
      "If'r thinkses who wancer to me to be  \n",
      "It and the crows a minster alithe  \n",
      "I gotto bod a stared and was allot man  \n",
      "You've got the canders to me  \n",
      "You're groust woreds  \n",
      "In your lest all stream  \n",
      "I get the tryer  \n",
      "  \n",
      "It's all the way  \n",
      "If I ceard around you are  \n",
      "The wonth the truss of simess this in  \n",
      "A string all me aroughs  \n",
      "\n"
     ]
    }
   ],
   "source": [
    "print(sample_lines(net, 15, prime='I love', top_k=5))"
   ]
  },
  {
   "cell_type": "markdown",
   "metadata": {
    "_uuid": "d01860e280647889f1bed28bb6aa104aad9f481a"
   },
   "source": [
    "## Saving the model"
   ]
  },
  {
   "cell_type": "code",
   "execution_count": 248,
   "metadata": {
    "_uuid": "a70c5f550b4818ec4142104d7b8b3e9d6bce2c4a"
   },
   "outputs": [],
   "source": [
    "model_name = 'models/model1.pth'\n",
    "\n",
    "checkpoint = {'n_hidden': net.n_hidden,\n",
    "              'n_layers': net.n_layers,\n",
    "              'state_dict': net.state_dict(),\n",
    "              'tokens': net.chars}\n",
    "\n",
    "with open(model_name, 'wb') as f:\n",
    "    torch.save(checkpoint, f)"
   ]
  },
  {
   "cell_type": "markdown",
   "metadata": {
    "_uuid": "c9296fd5477d58f0361072623a7bac2a51f44115"
   },
   "source": [
    "## Loading a model"
   ]
  },
  {
   "cell_type": "code",
   "execution_count": 249,
   "metadata": {
    "_uuid": "4b03ef71c266196457fbd56f0e111e5200e7a61d"
   },
   "outputs": [],
   "source": [
    "with open('models/model1.pth', 'rb') as f:\n",
    "    checkpoint = torch.load(f)\n",
    "    \n",
    "loaded = MyRNN(checkpoint['tokens'], n_hidden=checkpoint['n_hidden'], n_layers=checkpoint['n_layers'])\n",
    "loaded.load_state_dict(checkpoint['state_dict'])"
   ]
  }
 ],
 "metadata": {
  "kernelspec": {
   "display_name": "Python 3",
   "language": "python",
   "name": "python3"
  },
  "language_info": {
   "codemirror_mode": {
    "name": "ipython",
    "version": 3
   },
   "file_extension": ".py",
   "mimetype": "text/x-python",
   "name": "python",
   "nbconvert_exporter": "python",
   "pygments_lexer": "ipython3",
   "version": "3.7.1"
  }
 },
 "nbformat": 4,
 "nbformat_minor": 1
}
